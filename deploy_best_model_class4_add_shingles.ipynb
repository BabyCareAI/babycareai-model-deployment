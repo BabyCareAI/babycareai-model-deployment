{
 "cells": [
  {
   "cell_type": "code",
   "execution_count": 1,
   "id": "1eeecc02-4c8f-4548-9e5f-1750f33b11e7",
   "metadata": {
    "tags": []
   },
   "outputs": [],
   "source": [
    "import tarfile\n",
    "\n",
    "# 'model.pth'를 포함하는 tar.gz 파일 생성\n",
    "with tarfile.open('model.tar.gz', 'w:gz') as tar:\n",
    "    tar.add('model.pth', arcname='model.pth')"
   ]
  },
  {
   "cell_type": "code",
   "execution_count": null,
   "id": "bcbbf471",
   "metadata": {},
   "outputs": [],
   "source": [
    "import sagemaker\n",
    "from sagemaker import get_execution_role\n",
    "\n",
    "# SageMaker 세션 및 역할 초기화\n",
    "sagemaker_session = sagemaker.Session()\n",
    "role = get_execution_role()\n",
    "bucket = sagemaker_session.default_bucket()\n",
    "prefix = 'best_model_class4_add_shingles_v1'\n",
    "\n",
    "# S3에 업로드\n",
    "model_artifact = sagemaker_session.upload_data(path='model.tar.gz', key_prefix=prefix)\n",
    "print('Model uploaded to:', model_artifact)"
   ]
  },
  {
   "cell_type": "code",
   "execution_count": 3,
   "id": "1e66eb12-6fe8-49a7-92b1-bee3613abf77",
   "metadata": {
    "tags": []
   },
   "outputs": [
    {
     "name": "stdout",
     "output_type": "stream",
     "text": [
      "--------!"
     ]
    }
   ],
   "source": [
    "from sagemaker.pytorch import PyTorchModel\n",
    "\n",
    "# PyTorchModel 객체 생성\n",
    "pytorch_model = PyTorchModel(\n",
    "    model_data=model_artifact,\n",
    "    role=role,\n",
    "    entry_point='inference.py',\n",
    "    source_dir='code',\n",
    "    framework_version='1.9',\n",
    "    py_version='py38'\n",
    ")\n",
    "\n",
    "# 모델 배포 및 엔드포인트 생성(실시간 추론)\n",
    "predictor = pytorch_model.deploy(\n",
    "    initial_instance_count=1,\n",
    "    instance_type='ml.t2.medium'\n",
    ")\n"
   ]
  },
  {
   "cell_type": "code",
   "execution_count": null,
   "id": "4f19aae8-786a-4ef5-b03a-6fa77b2d2889",
   "metadata": {},
   "outputs": [],
   "source": []
  }
 ],
 "metadata": {
  "kernelspec": {
   "display_name": "conda_pytorch_p310",
   "language": "python",
   "name": "conda_pytorch_p310"
  },
  "language_info": {
   "codemirror_mode": {
    "name": "ipython",
    "version": 3
   },
   "file_extension": ".py",
   "mimetype": "text/x-python",
   "name": "python",
   "nbconvert_exporter": "python",
   "pygments_lexer": "ipython3",
   "version": "3.10.14"
  }
 },
 "nbformat": 4,
 "nbformat_minor": 5
}
